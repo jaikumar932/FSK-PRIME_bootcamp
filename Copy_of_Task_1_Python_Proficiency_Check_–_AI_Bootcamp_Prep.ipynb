{
  "nbformat": 4,
  "nbformat_minor": 0,
  "metadata": {
    "colab": {
      "provenance": []
    },
    "kernelspec": {
      "name": "python3",
      "display_name": "Python 3"
    },
    "language_info": {
      "name": "python"
    }
  },
  "cells": [
    {
      "cell_type": "markdown",
      "source": [
        "# Task 1: Python Proficiency Check – AI Bootcamp Prep"
      ],
      "metadata": {
        "id": "L982FdumDCVn"
      }
    },
    {
      "cell_type": "markdown",
      "source": [
        "## Section 1: Basics & Control Flow"
      ],
      "metadata": {
        "id": "gk9AwRFXDO6n"
      }
    },
    {
      "cell_type": "markdown",
      "source": [
        "### **Task 1**: FizzBuzz with a Twist\n",
        "\n",
        "*Instruction*: Write a function that prints numbers from 1 to 50. For multiples of 3, print \"AI\", for multiples of 5 print \"Bootcamp\", and for multiples of both 3 and 5 print \"AI Bootcamp\"."
      ],
      "metadata": {
        "id": "tG2LLFb4DSrf"
      }
    },
    {
      "cell_type": "code",
      "source": [
        "print(\"hello world\")\n",
        "def fizzbuzz_ai_bootcamp():\n",
        "      for i in range(1,51):\n",
        "        if i%3==0 and i%5==0:\n",
        "          print(f\"{i}=AI BOOTCAMP\")\n",
        "        elif i%5==0:\n",
        "          print(f\"{i}=BOOTCAMP\")\n",
        "        elif i%3==0:\n",
        "          print(f\"{i}=AI\")\n",
        "        else:\n",
        "          print(i)\n",
        "fizzbuzz_ai_bootcamp()"
      ],
      "metadata": {
        "id": "G6YtbgenDSWH",
        "colab": {
          "base_uri": "https://localhost:8080/"
        },
        "outputId": "9451174c-238f-40f1-b809-8791e0161173"
      },
      "execution_count": null,
      "outputs": [
        {
          "output_type": "stream",
          "name": "stdout",
          "text": [
            "hello world\n",
            "1\n",
            "2\n",
            "3=AI\n",
            "4\n",
            "5=BOOTCAMP\n",
            "6=AI\n",
            "7\n",
            "8\n",
            "9=AI\n",
            "10=BOOTCAMP\n",
            "11\n",
            "12=AI\n",
            "13\n",
            "14\n",
            "15=AI BOOTCAMP\n",
            "16\n",
            "17\n",
            "18=AI\n",
            "19\n",
            "20=BOOTCAMP\n",
            "21=AI\n",
            "22\n",
            "23\n",
            "24=AI\n",
            "25=BOOTCAMP\n",
            "26\n",
            "27=AI\n",
            "28\n",
            "29\n",
            "30=AI BOOTCAMP\n",
            "31\n",
            "32\n",
            "33=AI\n",
            "34\n",
            "35=BOOTCAMP\n",
            "36=AI\n",
            "37\n",
            "38\n",
            "39=AI\n",
            "40=BOOTCAMP\n",
            "41\n",
            "42=AI\n",
            "43\n",
            "44\n",
            "45=AI BOOTCAMP\n",
            "46\n",
            "47\n",
            "48=AI\n",
            "49\n",
            "50=BOOTCAMP\n"
          ]
        }
      ]
    },
    {
      "cell_type": "markdown",
      "source": [
        "### **Task 2**: List Comprehensions and Functions\n",
        "\n",
        "*Instruction*: Given a list of numbers, square only the even numbers using a list comprehension and define a function that returns the result."
      ],
      "metadata": {
        "id": "8YMADBQmDhHU"
      }
    },
    {
      "cell_type": "code",
      "execution_count": null,
      "metadata": {
        "colab": {
          "base_uri": "https://localhost:8080/"
        },
        "id": "sPfpD1yF4LTO",
        "outputId": "53dfce75-006a-4cf1-cce0-9154dafe320c"
      },
      "outputs": [
        {
          "output_type": "stream",
          "name": "stdout",
          "text": [
            "square root of  2 = 4\n",
            "square root of  4 = 16\n",
            "square root of  6 = 36\n",
            "\n"
          ]
        }
      ],
      "source": [
        "def square_evens(numbers):\n",
        "    for i in numbers:\n",
        "      if i%2==0:\n",
        "        print(\"square root of \",i,\"=\",i**2)\n",
        "    else:\n",
        "        print()\n",
        "\n",
        "square_evens([1,2,3,4,5,6])"
      ]
    },
    {
      "cell_type": "markdown",
      "source": [
        "## Section 2: Data Structures & File I/O"
      ],
      "metadata": {
        "id": "03CKwCBtDzRL"
      }
    },
    {
      "cell_type": "markdown",
      "source": [
        "### **Task 3**: Word Frequency from a File\n",
        "\n",
        "*Instruction*: Read the provided text file (sample.txt) and return the 5 most common words (ignoring punctuation and case)."
      ],
      "metadata": {
        "id": "oh1W_9m5DuzF"
      }
    },
    {
      "cell_type": "code",
      "source": [
        "from collections import Counter\n",
        "import string\n",
        "\n",
        "def top_5_words(filepath):\n",
        "    with open(filepath,'r') as file:\n",
        "       text=file.read()\n",
        "    text=text.lower()\n",
        "    text=text.translate(str.maketrans('','', string.punctuation))\n",
        "    words = text.split()\n",
        "    word_counts = Counter(words)\n",
        "    most_common = word_counts.most_common(5)\n",
        "    for word, count in most_common:\n",
        "        print(f\"{word}:{count}\")\n",
        "\n",
        "\n",
        "top_5_words('/content/sample_data/README.md')\n",
        "\n",
        "\n",
        "\n"
      ],
      "metadata": {
        "id": "SQTsWR6GDn6e",
        "colab": {
          "base_uri": "https://localhost:8080/"
        },
        "outputId": "3480b4c6-37fc-43fc-dd6b-42514b8e5db6"
      },
      "execution_count": null,
      "outputs": [
        {
          "output_type": "stream",
          "name": "stdout",
          "text": [
            "is:4\n",
            "a:3\n",
            "the:3\n",
            "sample:2\n",
            "at:2\n"
          ]
        }
      ]
    },
    {
      "cell_type": "markdown",
      "source": [
        "## Section 3: NumPy & pandas"
      ],
      "metadata": {
        "id": "mVV1BgZvEE3a"
      }
    },
    {
      "cell_type": "markdown",
      "source": [
        "### **Task 4**: NumPy Matrix Magic\n",
        "\n",
        "*Instruction*: Create a 5x5 matrix with random integers from 1 to 10. Replace all elements greater than 5 with 0."
      ],
      "metadata": {
        "id": "opUK7Z7LEIr4"
      }
    },
    {
      "cell_type": "code",
      "source": [
        "import numpy as np\n",
        "\n",
        "def matrix_transform():\n",
        "    matrix1=np.random.randint(1,11,size=(5,5))\n",
        "    print(matrix1)\n",
        "    matrix1[matrix1>5]=0\n",
        "    print()\n",
        "    print(\"New matrix = \")\n",
        "    print(matrix1)\n",
        "\n",
        "\n",
        "matrix_transform()"
      ],
      "metadata": {
        "id": "UW3FMdjQEEl3",
        "colab": {
          "base_uri": "https://localhost:8080/"
        },
        "outputId": "1eb89e98-9400-4b23-9509-5e9dfc71a35a"
      },
      "execution_count": null,
      "outputs": [
        {
          "output_type": "stream",
          "name": "stdout",
          "text": [
            "[[ 6  8  8  7  6]\n",
            " [ 4  5  3 10  4]\n",
            " [ 1  7  9  9  1]\n",
            " [10  2  5  5  7]\n",
            " [ 6  1  6  3 10]]\n",
            "\n",
            "New matrix = \n",
            "[[0 0 0 0 0]\n",
            " [4 5 3 0 4]\n",
            " [1 0 0 0 1]\n",
            " [0 2 5 5 0]\n",
            " [0 1 0 3 0]]\n"
          ]
        }
      ]
    },
    {
      "cell_type": "markdown",
      "source": [
        "### **Task 5**: pandas DataFrame Manipulation\n",
        "\n",
        "*Instruction*: Given the following dictionary, convert it into a DataFrame, calculate the average score per student, and add it as a new column."
      ],
      "metadata": {
        "id": "YuFv3sE6ET9d"
      }
    },
    {
      "cell_type": "code",
      "source": [
        "import pandas as pd\n",
        "\n",
        "data = {\n",
        "    'Name': ['Alice', 'Bob', 'Charlie'],\n",
        "    'Math': [85, 78, 92],\n",
        "    'Science': [90, 88, 84],\n",
        "    'English': [87, 85, 80]\n",
        "}\n",
        "\n",
        "df=pd.DataFrame(data)\n",
        "df[\"Average\"]=df[[\"Math\",\"Science\",\"English\"]].mean(axis=1)\n",
        "print(df)"
      ],
      "metadata": {
        "id": "horbXH8iETuH",
        "colab": {
          "base_uri": "https://localhost:8080/"
        },
        "outputId": "6f69e431-94bc-485f-cad2-e3adfd9cde6d"
      },
      "execution_count": null,
      "outputs": [
        {
          "output_type": "stream",
          "name": "stdout",
          "text": [
            "      Name  Math  Science  English    Average\n",
            "0    Alice    85       90       87  87.333333\n",
            "1      Bob    78       88       85  83.666667\n",
            "2  Charlie    92       84       80  85.333333\n"
          ]
        }
      ]
    },
    {
      "cell_type": "markdown",
      "source": [
        "## Section 4: Visualization & Logic"
      ],
      "metadata": {
        "id": "GNO0DPi3EpgF"
      }
    },
    {
      "cell_type": "markdown",
      "source": [
        "### **Task 6**: Simple Data Visualization\n",
        "\n",
        "*Instruction*: Use matplotlib to create a bar chart showing the average score per subject from the DataFrame in the previous task."
      ],
      "metadata": {
        "id": "W74DNGaJEtdj"
      }
    },
    {
      "cell_type": "code",
      "source": [
        "import matplotlib.pyplot as plt\n",
        "import pandas as pd\n",
        "\n",
        "data = {\n",
        "    'Name': ['Alice', 'Bob', 'Charlie'],\n",
        "    'Math': [85, 78, 92],\n",
        "    'Science': [90, 88, 84],\n",
        "    'English': [87, 85, 80]\n",
        "}\n",
        "\n",
        "df = pd.DataFrame(data)\n",
        "df[\"Average\"] = df[[\"Math\", \"Science\", \"English\"]].mean(axis=1)\n",
        "print(df)"
      ],
      "metadata": {
        "id": "aM8iWEAXEOmE",
        "colab": {
          "base_uri": "https://localhost:8080/"
        },
        "outputId": "07f36d82-f5c6-43f4-bd14-e2ca43ed24d6"
      },
      "execution_count": null,
      "outputs": [
        {
          "output_type": "stream",
          "name": "stdout",
          "text": [
            "      Name  Math  Science  English    Average\n",
            "0    Alice    85       90       87  87.333333\n",
            "1      Bob    78       88       85  83.666667\n",
            "2  Charlie    92       84       80  85.333333\n"
          ]
        }
      ]
    },
    {
      "cell_type": "markdown",
      "source": [
        "## Section 5: Mini-Project Challenge"
      ],
      "metadata": {
        "id": "yFxPFagsE9mS"
      }
    },
    {
      "cell_type": "markdown",
      "source": [
        "### **Task 7**: Build a Mini Calculator with Exception Handling\n",
        "\n",
        "*Instruction*: Write a function that takes two numbers and an operator as input (+, -, *, /). Return the result, and handle divide-by-zero and invalid operator cases with appropriate error messages."
      ],
      "metadata": {
        "id": "IZwIOzHXFD1a"
      }
    },
    {
      "cell_type": "code",
      "source": [
        "def calculator(a, b, operator):\n",
        "    if operator == '+':\n",
        "        return a + b\n",
        "    elif operator == '-':\n",
        "        return a - b\n",
        "    elif operator == '*':\n",
        "        return a * b\n",
        "    elif operator == '/':\n",
        "        if b == 0:\n",
        "            return \"Error: Division by zero is not allowed.\"\n",
        "        return a / b\n",
        "    else:\n",
        "        return \"Error: Invalid operator.Use one of +,-,*,/\"\n",
        "calculator(10, 0, '/')"
      ],
      "metadata": {
        "id": "VpUFTR1JFDWk",
        "colab": {
          "base_uri": "https://localhost:8080/",
          "height": 35
        },
        "outputId": "6b7d79a4-44fc-4fdc-ce38-53d95785a6fe"
      },
      "execution_count": null,
      "outputs": [
        {
          "output_type": "execute_result",
          "data": {
            "text/plain": [
              "'Error: Division by zero is not allowed.'"
            ],
            "application/vnd.google.colaboratory.intrinsic+json": {
              "type": "string"
            }
          },
          "metadata": {},
          "execution_count": 2
        }
      ]
    }
  ]
}